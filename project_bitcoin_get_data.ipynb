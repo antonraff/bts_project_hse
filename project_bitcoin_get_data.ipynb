{
 "cells": [
  {
   "cell_type": "code",
   "execution_count": 1,
   "id": "93926237",
   "metadata": {},
   "outputs": [],
   "source": [
    "# ВСЕ САМОЕ НЕОБХОДИМОЕ\n",
    "import numpy as np         # библиотека для матриц и математики\n",
    "import pandas as pd        # библиотека дл работы с табличками\n",
    "from scipy import stats    # модуль для работы со статистикой\n",
    "from scipy.stats import norm\n",
    "\n",
    "# библиотеки для визуализации и картинок\n",
    "import matplotlib.pyplot as plt\n",
    "import seaborn as sns\n",
    "import matplotlib.ticker as ticker\n",
    "\n",
    "plt.style.use('ggplot')    # можно выбрать для графиков свой любимый стиль\n",
    "%matplotlib inline \n",
    "sns.set_theme(style=\"darkgrid\", palette=\"pastel\")\n",
    "\n",
    "import random\n",
    "import math\n",
    "\n",
    "import itertools\n",
    "from itertools import combinations\n",
    "from datetime import datetime\n",
    "\n",
    "# все необходимое для парсинга\n",
    "import requests\n",
    "from requests import get\n",
    "\n",
    "from selenium import webdriver #для обхода ошибки 403\n",
    "from selenium.webdriver.common.keys import Keys\n",
    "from selenium.webdriver.common.by import By\n",
    "from selenium.webdriver.support.ui import WebDriverWait # для того, чтобы мешающаяся реклама, появляющаяся не сразу, закрывалась нажатием не сразу\n",
    "from selenium.webdriver.support import expected_conditions as EC\n",
    "\n",
    "from bs4 import BeautifulSoup #обработка html\n",
    "\n",
    "import warnings\n",
    "warnings.filterwarnings(\"ignore\")"
   ]
  },
  {
   "cell_type": "markdown",
   "id": "2fe363e2",
   "metadata": {},
   "source": [
    "### ***Достаем табличку с основной информацией по Bitcoin Futures CME***"
   ]
  },
  {
   "cell_type": "markdown",
   "id": "8d89f95c",
   "metadata": {},
   "source": [
    "##### Первый этап: работаем со страницей investing.com"
   ]
  },
  {
   "cell_type": "code",
   "execution_count": null,
   "id": "9995b92a",
   "metadata": {},
   "outputs": [],
   "source": [
    "page_link='https://www.investing.com/crypto/bitcoin/bitcoin-futures-historical-data'"
   ]
  },
  {
   "cell_type": "code",
   "execution_count": null,
   "id": "730b0b21",
   "metadata": {},
   "outputs": [],
   "source": [
    "browser = webdriver.Chrome()\n",
    "# https://pypi.org/project/selenium/\n",
    "# https://www.youtube.com/watch?v=WePyfXrpdDQ&list=PLCf-cQCe1FRyB5Z3tTWHh-1CLKVYfJdkN&index=10\n",
    "browser.get(page_link)\n"
   ]
  },
  {
   "cell_type": "code",
   "execution_count": null,
   "id": "6d4c5204",
   "metadata": {},
   "outputs": [],
   "source": [
    "# Ожидание появления кнопки на странице\n",
    "#wait = WebDriverWait(browser, 20) # https://stackoverflow.com/questions/59130200/selenium-wait-until-element-is-present-visible-and-interactable\n",
    "#button = wait.until(EC.presence_of_element_located((By.XPATH, '/html/body/div[7]/div[2]/i')))\n",
    "# Ожидание кликабельности кнопки\n",
    "#wait.until(EC.element_to_be_clickable((By.XPATH, \"/html/body/div[7]/div[2]/i\")))\n",
    "#button.click()"
   ]
  },
  {
   "cell_type": "code",
   "execution_count": null,
   "id": "7b904dba",
   "metadata": {},
   "outputs": [],
   "source": [
    "# Получаем даты начала и конца периода введенные пользователем\n",
    "start_date = \"01-01-2018\"\n",
    "end_date = \"04-28-2023\""
   ]
  },
  {
   "cell_type": "code",
   "execution_count": null,
   "id": "f540160c",
   "metadata": {},
   "outputs": [],
   "source": [
    "date_picker=browser.find_element(By.XPATH, '/html/body/div[5]/section/div[8]/div[3]/div/div[1]/div[1]/div').click() #нажимаем на кнопку выбора даты\n",
    "# https://ru.stackoverflow.com/questions/920268/message-no-such-element-unable-to-locate-element\n",
    "# https://runebook.dev/ru/docs/dom/htmlelement/click\n",
    "# https://stackoverflow.com/questions/35632810/python-selenium-find-element-by-name"
   ]
  },
  {
   "cell_type": "code",
   "execution_count": null,
   "id": "f03b59e5",
   "metadata": {},
   "outputs": [],
   "source": [
    "date_picker_1=browser.find_element(By.XPATH, '/html/body/div[9]/div[1]')"
   ]
  },
  {
   "cell_type": "code",
   "execution_count": null,
   "id": "918081a5",
   "metadata": {},
   "outputs": [],
   "source": [
    "start_date_input = browser.find_element(By.XPATH, '/html/body/div[7]/div[1]/input[1]') # находим элемент начальной даты на странице\n",
    "start_date_input.clear()  # очищаем его содержимое\n",
    "start_date_input.send_keys(start_date)  # вводим начальную дату\n",
    "\n",
    "end_date_input = browser.find_element(By.XPATH, '/html/body/div[7]/div[1]/input[2]')  # находим элемент конечной даты на странице\n",
    "end_date_input.clear()  # очищаем его содержимое\n",
    "end_date_input.send_keys(end_date)  # вводим конечную дату\n",
    "\n",
    "apply_bottom = browser.find_element(By.XPATH, '/html/body/div[7]/div[5]/a').click() #нажимаем на кнопку применения выбранного временного диапазона\n"
   ]
  },
  {
   "cell_type": "markdown",
   "id": "ac012714",
   "metadata": {},
   "source": [
    "##### Второй этап:  достаем таблицу"
   ]
  },
  {
   "cell_type": "code",
   "execution_count": null,
   "id": "472303d0",
   "metadata": {},
   "outputs": [],
   "source": [
    "# Собираем информацию по тэгу \n",
    "btc_ftrs_table = browser.find_element(By.XPATH, '/html/body/div[5]/section/div[9]/table[1]') # https://idatica.com/blog/parsing-tablitsy-s-sayta-na-python-poshagovoye-rukovodstvo/\n",
    "btc_ftrs_table_text=btc_ftrs_table.text"
   ]
  },
  {
   "cell_type": "code",
   "execution_count": null,
   "id": "1c984885",
   "metadata": {},
   "outputs": [],
   "source": [
    "file = open('btc_table.txt', \"w\")\n",
    "file.write(btc_ftrs_table_text); #закидываем текст в текстовый файл"
   ]
  },
  {
   "cell_type": "code",
   "execution_count": null,
   "id": "04fcd340",
   "metadata": {},
   "outputs": [],
   "source": [
    "with open(\"btc_table.txt\", \"r\") as file:\n",
    "    text = file.read()\n",
    "text = text.replace(\",\", \"\")\n",
    "with open(\"btc_table.txt\", \"w\") as file:\n",
    "    file.write(text)"
   ]
  },
  {
   "cell_type": "code",
   "execution_count": null,
   "id": "37dd5f51",
   "metadata": {},
   "outputs": [],
   "source": [
    "with open(\"btc_table.txt\", \"r\") as file:\n",
    "    lines = file.readlines()\n",
    "\n",
    "new_lines = [lines[0]] # первую строку оставляем без изменений\n",
    "for line in lines[1:]:\n",
    "    new_line = line.replace(\" \", \"-\", 2) # заменяем первые два пробела на \"-\", чтобы сделать дату одним целым\n",
    "    new_lines.append(new_line)\n",
    "\n",
    "with open(\"btc_table.txt\", \"w\") as file:\n",
    "    file.writelines(new_lines)"
   ]
  },
  {
   "cell_type": "code",
   "execution_count": null,
   "id": "7b7c0bd8",
   "metadata": {},
   "outputs": [],
   "source": [
    "with open(\"btc_table.txt\", \"r\") as file:\n",
    "    text = file.read()\n",
    "    \n",
    "text = text.replace(\" \", \",\") # заменяем все нужные пробелы на запятые, чтобы потом был нормальные csv-файл с разделителем в виде запятой\n",
    "\n",
    "with open(\"btc_table.txt\", \"w\") as file:\n",
    "    file.write(text)"
   ]
  },
  {
   "cell_type": "code",
   "execution_count": null,
   "id": "eb62b5e0",
   "metadata": {},
   "outputs": [],
   "source": [
    "df = pd.read_csv('btc_table.txt')"
   ]
  },
  {
   "cell_type": "code",
   "execution_count": null,
   "id": "be99f4db",
   "metadata": {},
   "outputs": [],
   "source": [
    "df=df.drop('%', axis=1) #удаляем случайно возникший столбец при работе с таблицей\n",
    "\n",
    "df.to_csv('btc_ftrs_table.csv') #сохраняем в csv файл\n",
    "df"
   ]
  },
  {
   "cell_type": "markdown",
   "id": "c47aa0de",
   "metadata": {},
   "source": [
    "### ***Достаем табличку с основной информацией по BTC/USD Binance***"
   ]
  },
  {
   "cell_type": "markdown",
   "id": "413c5a74",
   "metadata": {},
   "source": [
    "##### Первый этап: работаем со страницей investing.com"
   ]
  },
  {
   "cell_type": "code",
   "execution_count": null,
   "id": "bbe41d1f",
   "metadata": {},
   "outputs": [],
   "source": [
    "page_link1='https://www.investing.com/crypto/bitcoin/btc-usd-historical-data?cid=1035793'"
   ]
  },
  {
   "cell_type": "code",
   "execution_count": null,
   "id": "2ac6bc56",
   "metadata": {},
   "outputs": [],
   "source": [
    "browser1 = webdriver.Chrome()\n",
    "# https://pypi.org/project/selenium/\n",
    "# https://www.youtube.com/watch?v=WePyfXrpdDQ&list=PLCf-cQCe1FRyB5Z3tTWHh-1CLKVYfJdkN&index=10\n",
    "browser1.get(page_link1)"
   ]
  },
  {
   "cell_type": "code",
   "execution_count": null,
   "id": "06048d01",
   "metadata": {},
   "outputs": [],
   "source": [
    "# даты начала и конца периода, вводимые пользователем\n",
    "start_date1 = \"01012018\"\n",
    "end_date1 = \"28042023\""
   ]
  },
  {
   "cell_type": "code",
   "execution_count": null,
   "id": "01caaff0",
   "metadata": {},
   "outputs": [],
   "source": [
    "date_picker1=browser1.find_element(By.XPATH, '/html/body/div[1]/div[2]/div/div/div[2]/main/div/div[5]/div/div[1]/div/div[2]/div[2]/div[2]/div/div[2]/div').click() #нажимаем на кнопку выбора даты\n",
    "end_date_input1 = browser1.find_element(By.XPATH, '/html/body/div[1]/div[2]/div/div/div[2]/main/div/div[5]/div/div[1]/div/div[2]/div[2]/div[2]/div[2]/div[1]/div/div[2]/input')  # находим элемент конечной даты на странице\n",
    "end_date_input1.clear()  # очищаем его содержимое\n",
    "end_date_input1.send_keys(end_date1)  # вводим конечную дату\n",
    "\n",
    "apply_bottom1 = browser1.find_element(By.XPATH, '/html/body/div[1]/div[2]/div/div/div[2]/main/div/div[5]/div/div[1]/div/div[2]/div[2]/div[2]/div[2]/div[2]/button').click() #нажимаем на кнопку применения выбранного временного диапазона"
   ]
  },
  {
   "cell_type": "code",
   "execution_count": null,
   "id": "7f8e8f5c",
   "metadata": {},
   "outputs": [],
   "source": [
    "date_picker1=browser1.find_element(By.XPATH, '/html/body/div[1]/div[2]/div/div/div[2]/main/div/div[5]/div/div[1]/div/div[2]/div[2]/div[2]/div/div[2]/div').click() #нажимаем на кнопку выбора даты\n",
    "start_date_input1 = browser1.find_element(By.XPATH, '/html/body/div[1]/div[2]/div/div/div[2]/main/div/div[5]/div/div[1]/div/div[2]/div[2]/div[2]/div[2]/div[1]/div/div[1]/input') # находим элемент начальной даты на странице\n",
    "start_date_input1.clear()  # очищаем его содержимое\n",
    "start_date_input1.send_keys(start_date1)  # вводим начальную дату\n",
    "apply_bottom1 = browser1.find_element(By.XPATH, '/html/body/div[1]/div[2]/div/div/div[2]/main/div/div[5]/div/div[1]/div/div[2]/div[2]/div[2]/div[2]/div[2]/button').click() #нажимаем на кнопку применения выбранного временного диапазона\n"
   ]
  },
  {
   "cell_type": "markdown",
   "id": "c9b88c63",
   "metadata": {},
   "source": [
    "##### Второй этап:  достаем таблицу"
   ]
  },
  {
   "cell_type": "code",
   "execution_count": null,
   "id": "328a69b9",
   "metadata": {},
   "outputs": [],
   "source": [
    "btc_table = browser1.find_element(By.XPATH, '/html/body/div[1]/div[2]/div/div/div[2]/main/div/div[5]/div/div[1]/div/div[3]/div/table') # https://idatica.com/blog/parsing-tablitsy-s-sayta-na-python-poshagovoye-rukovodstvo/\n",
    "btc_table_text=btc_table.text\n"
   ]
  },
  {
   "cell_type": "code",
   "execution_count": null,
   "id": "a03dbd9f",
   "metadata": {},
   "outputs": [],
   "source": [
    "file = open('btc_table1.txt', \"w\")\n",
    "file.write(btc_table_text); #закидываем текст в текстовый файл"
   ]
  },
  {
   "cell_type": "code",
   "execution_count": null,
   "id": "fc30ace4",
   "metadata": {},
   "outputs": [],
   "source": [
    "with open('btc_table1.txt', 'r') as f:\n",
    "    lines = f.readlines() # Чтение всех строк файла\n",
    "\n",
    "# Замена символов новой строки на пробелы в первых пяти строках\n",
    "for i in range(6):\n",
    "    lines[i] = lines[i].replace('\\n', ' ')\n",
    "\n",
    "with open('btc_table1.txt', 'w') as f:\n",
    "    f.writelines(lines) # Запись измененных строк обратно в файл"
   ]
  },
  {
   "cell_type": "code",
   "execution_count": null,
   "id": "4257ae3f",
   "metadata": {},
   "outputs": [],
   "source": [
    "#удаляем лишние запятые\n",
    "with open(\"btc_table1.txt\", \"r\") as file:\n",
    "    text = file.read()\n",
    "text = text.replace(\",\", \"\")\n",
    "with open(\"btc_table1.txt\", \"w\") as file:\n",
    "    file.write(text)"
   ]
  },
  {
   "cell_type": "code",
   "execution_count": null,
   "id": "4d82b0b4",
   "metadata": {},
   "outputs": [],
   "source": [
    "with open(\"btc_table1.txt\", \"r\") as file:\n",
    "    text = file.read()\n",
    "    \n",
    "text = text.replace(\" \", \",\") # заменяем все нужные пробелы на запятые, чтобы потом был нормальные csv-файл с разделителем в виде запятой\n",
    "\n",
    "with open(\"btc_table1.txt\", \"w\") as file:\n",
    "    file.write(text)"
   ]
  },
  {
   "cell_type": "code",
   "execution_count": null,
   "id": "0f4fd12a",
   "metadata": {},
   "outputs": [],
   "source": [
    "df1 = pd.read_csv('btc_table1.txt')"
   ]
  },
  {
   "cell_type": "code",
   "execution_count": null,
   "id": "bdbf154a",
   "metadata": {},
   "outputs": [],
   "source": [
    "df1=df1.drop('%', axis=1) #удаляем случайно возникший столбец при работе с таблицей\n",
    "\n",
    "df1.to_csv('btc_usd_table.csv') #сохраняем в csv файл\n",
    "df1"
   ]
  },
  {
   "cell_type": "markdown",
   "id": "e8d31061",
   "metadata": {},
   "source": [
    "### ***Достаем табличку с основной информацией по S&P 500 Futures***"
   ]
  },
  {
   "cell_type": "markdown",
   "id": "6f0d6eed",
   "metadata": {},
   "source": [
    "##### Первый этап: работаем со страницей investing.com"
   ]
  },
  {
   "cell_type": "code",
   "execution_count": null,
   "id": "8ca7c840",
   "metadata": {},
   "outputs": [],
   "source": [
    "page_link2='https://www.investing.com/indices/us-spx-500-futures-historical-data'"
   ]
  },
  {
   "cell_type": "code",
   "execution_count": null,
   "id": "7e0ea184",
   "metadata": {},
   "outputs": [],
   "source": [
    "browser2 = webdriver.Chrome()\n",
    "# https://pypi.org/project/selenium/\n",
    "# https://www.youtube.com/watch?v=WePyfXrpdDQ&list=PLCf-cQCe1FRyB5Z3tTWHh-1CLKVYfJdkN&index=10\n",
    "browser2.get(page_link2)"
   ]
  },
  {
   "cell_type": "code",
   "execution_count": null,
   "id": "914cb5e9",
   "metadata": {},
   "outputs": [],
   "source": [
    "# даты начала и конца периода, вводимые пользователем\n",
    "start_date2 = \"01012018\"\n",
    "end_date2 = \"28042023\""
   ]
  },
  {
   "cell_type": "code",
   "execution_count": null,
   "id": "07a43044",
   "metadata": {},
   "outputs": [],
   "source": [
    "date_picker2=browser2.find_element(By.XPATH, '/html/body/div[1]/div[2]/div/div/div[2]/main/div/div[5]/div/div/div[2]/div[2]/div[2]/div[1]/div[1]').click() #нажимаем на кнопку выбора даты\n",
    "end_date_input2 = browser2.find_element(By.XPATH, '/html/body/div[1]/div[2]/div/div/div[2]/main/div/div[5]/div/div/div[2]/div[2]/div[2]/div[2]/div[1]/div/div[2]/input')  # находим элемент конечной даты на странице\n",
    "end_date_input2.clear()  # очищаем его содержимое\n",
    "end_date_input2.send_keys(end_date2)  # вводим конечную дату\n",
    "\n",
    "apply_bottom2 = browser2.find_element(By.XPATH, '/html/body/div[1]/div[2]/div/div/div[2]/main/div/div[5]/div/div/div[2]/div[2]/div[2]/div[2]/div[2]/button').click() #нажимаем на кнопку применения выбранного временного диапазона"
   ]
  },
  {
   "cell_type": "code",
   "execution_count": null,
   "id": "98d95beb",
   "metadata": {},
   "outputs": [],
   "source": [
    "date_picker2=browser2.find_element(By.XPATH, '/html/body/div[1]/div[2]/div/div/div[2]/main/div/div[5]/div/div/div[2]/div[2]/div[2]/div[1]/div[2]/div').click() #нажимаем на кнопку выбора даты\n",
    "start_date_input2 = browser2.find_element(By.XPATH, '/html/body/div[1]/div[2]/div/div/div[2]/main/div/div[5]/div/div/div[2]/div[2]/div[2]/div[2]/div[1]/div/div[1]/input') # находим элемент начальной даты на странице\n",
    "start_date_input2.clear()  # очищаем его содержимое\n",
    "start_date_input2.send_keys(start_date2)  # вводим начальную дату\n",
    "apply_bottom2 = browser2.find_element(By.XPATH, '/html/body/div[1]/div[2]/div/div/div[2]/main/div/div[5]/div/div/div[2]/div[2]/div[2]/div[2]/div[2]/button').click() #нажимаем на кнопку применения выбранного временного диапазона\n"
   ]
  },
  {
   "cell_type": "markdown",
   "id": "49fa34e5",
   "metadata": {},
   "source": [
    "##### Второй этап:  достаем таблицу"
   ]
  },
  {
   "cell_type": "code",
   "execution_count": null,
   "id": "70e4ba88",
   "metadata": {},
   "outputs": [],
   "source": [
    "ftrs_sp500_table = browser2.find_element(By.XPATH, '/html/body/div[1]/div[2]/div/div/div[2]/main/div/div[5]/div/div/div[3]/div/table') # https://idatica.com/blog/parsing-tablitsy-s-sayta-na-python-poshagovoye-rukovodstvo/\n",
    "ftrs_sp500_table_text=ftrs_sp500_table.text"
   ]
  },
  {
   "cell_type": "code",
   "execution_count": null,
   "id": "7300a7b3",
   "metadata": {},
   "outputs": [],
   "source": [
    "file = open('ftrs_sp500_table.txt', \"w\")\n",
    "file.write(ftrs_sp500_table_text); #закидываем текст в текстовый файл"
   ]
  },
  {
   "cell_type": "code",
   "execution_count": null,
   "id": "5c0565d1",
   "metadata": {},
   "outputs": [],
   "source": [
    "with open('ftrs_sp500_table.txt', 'r') as f:\n",
    "    lines = f.readlines() # Чтение всех строк файла\n",
    "\n",
    "# Замена символов новой строки на пробелы в первых пяти строках\n",
    "for i in range(6):\n",
    "    lines[i] = lines[i].replace('\\n', ' ')\n",
    "\n",
    "with open('ftrs_sp500_table.txt', 'w') as f:\n",
    "    f.writelines(lines) # Запись измененных строк обратно в файл"
   ]
  },
  {
   "cell_type": "code",
   "execution_count": null,
   "id": "fb0990cb",
   "metadata": {},
   "outputs": [],
   "source": [
    "#удаляем лишние запятые\n",
    "with open(\"ftrs_sp500_table.txt\", \"r\") as file:\n",
    "    text = file.read()\n",
    "text = text.replace(\",\", \"\")\n",
    "with open(\"ftrs_sp500_table.txt\", \"w\") as file:\n",
    "    file.write(text)"
   ]
  },
  {
   "cell_type": "code",
   "execution_count": null,
   "id": "b3593c57",
   "metadata": {},
   "outputs": [],
   "source": [
    "with open(\"ftrs_sp500_table.txt\", \"r\") as file:\n",
    "    text = file.read()\n",
    "    \n",
    "text = text.replace(\" \", \",\") # заменяем все нужные пробелы на запятые, чтобы потом был нормальные csv-файл с разделителем в виде запятой\n",
    "\n",
    "with open(\"ftrs_sp500_table.txt\", \"w\") as file:\n",
    "    file.write(text)"
   ]
  },
  {
   "cell_type": "code",
   "execution_count": null,
   "id": "1ab93418",
   "metadata": {},
   "outputs": [],
   "source": [
    "df2 = pd.read_csv('ftrs_sp500_table.txt')"
   ]
  },
  {
   "cell_type": "code",
   "execution_count": null,
   "id": "f79fdf97",
   "metadata": {},
   "outputs": [],
   "source": [
    "df2=df2.drop('%', axis=1) #удаляем случайно возникший столбец при работе с таблицей\n",
    "\n",
    "df2.to_csv('ftrs_sp500_table.csv') #сохраняем в csv файл\n",
    "df2"
   ]
  }
 ],
 "metadata": {
  "kernelspec": {
   "display_name": "Python 3 (ipykernel)",
   "language": "python",
   "name": "python3"
  },
  "language_info": {
   "codemirror_mode": {
    "name": "ipython",
    "version": 3
   },
   "file_extension": ".py",
   "mimetype": "text/x-python",
   "name": "python",
   "nbconvert_exporter": "python",
   "pygments_lexer": "ipython3",
   "version": "3.9.7"
  }
 },
 "nbformat": 4,
 "nbformat_minor": 5
}
